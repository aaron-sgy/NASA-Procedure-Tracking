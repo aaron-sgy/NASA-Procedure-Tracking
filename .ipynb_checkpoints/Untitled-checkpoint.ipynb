{
 "cells": [
  {
   "cell_type": "markdown",
   "id": "8eacfea2-543f-434a-8c7f-07969f25157e",
   "metadata": {},
   "source": [
    "# Personal Training\n",
    "\n",
    "one line script `python train.py —batch 16 —epochs 55, —data 'dataset/data.yaml' —weights 'yolov7.pt' —device 0`\n",
    "\n",
    "using python 3.9\n"
   ]
  },
  {
   "cell_type": "code",
   "execution_count": 4,
   "id": "19d3aaa6-4b43-423b-986d-e682dff51217",
   "metadata": {},
   "outputs": [
    {
     "name": "stdout",
     "output_type": "stream",
     "text": [
      "Python 3.9.18\n"
     ]
    }
   ],
   "source": [
    "!python --version"
   ]
  },
  {
   "cell_type": "markdown",
   "id": "859cc107-c2b1-4064-b61c-1b60da993aea",
   "metadata": {},
   "source": [
    "# Making Sure GPU is used"
   ]
  },
  {
   "cell_type": "code",
   "execution_count": 1,
   "id": "b592e390-3708-47f6-9677-452830dbb8ec",
   "metadata": {},
   "outputs": [
    {
     "ename": "ModuleNotFoundError",
     "evalue": "No module named 'tensorflow'",
     "output_type": "error",
     "traceback": [
      "\u001b[1;31m---------------------------------------------------------------------------\u001b[0m",
      "\u001b[1;31mModuleNotFoundError\u001b[0m                       Traceback (most recent call last)",
      "Cell \u001b[1;32mIn[1], line 1\u001b[0m\n\u001b[1;32m----> 1\u001b[0m \u001b[38;5;28;01mimport\u001b[39;00m \u001b[38;5;21;01mtensorflow\u001b[39;00m \u001b[38;5;28;01mas\u001b[39;00m \u001b[38;5;21;01mtf\u001b[39;00m\n\u001b[0;32m      3\u001b[0m gpus \u001b[38;5;241m=\u001b[39m tf\u001b[38;5;241m.\u001b[39mconfig\u001b[38;5;241m.\u001b[39mlist_physical_devices(\u001b[38;5;124m\"\u001b[39m\u001b[38;5;124mGPU\u001b[39m\u001b[38;5;124m\"\u001b[39m)\n\u001b[0;32m      5\u001b[0m \u001b[38;5;28;01mif\u001b[39;00m gpus:\n",
      "\u001b[1;31mModuleNotFoundError\u001b[0m: No module named 'tensorflow'"
     ]
    }
   ],
   "source": [
    "import tensorflow as tf\n",
    "\n",
    "gpus = tf.config.list_physical_devices(\"GPU\")\n",
    "\n",
    "if gpus:\n",
    "    for gpu in gpus:\n",
    "        print(\"Found a GPU with the name:\", gpu)\n",
    "else:\n",
    "    print(\"Failed to detect a GPU.\")"
   ]
  },
  {
   "cell_type": "code",
   "execution_count": 6,
   "id": "0625a5ef",
   "metadata": {},
   "outputs": [
    {
     "name": "stdout",
     "output_type": "stream",
     "text": [
      "^C\n"
     ]
    }
   ],
   "source": [
    "!conda install pytorch"
   ]
  },
  {
   "cell_type": "code",
   "execution_count": 5,
   "id": "50c69706-5800-4749-b996-daa9776c0fa7",
   "metadata": {},
   "outputs": [
    {
     "name": "stdout",
     "output_type": "stream",
     "text": [
      "Collecting pytorch\n",
      "  Using cached pytorch-1.0.2.tar.gz (689 bytes)\n",
      "  Preparing metadata (setup.py): started\n",
      "  Preparing metadata (setup.py): finished with status 'done'\n",
      "Building wheels for collected packages: pytorch\n",
      "  Building wheel for pytorch (setup.py): started\n",
      "  Building wheel for pytorch (setup.py): finished with status 'error'\n",
      "  Running setup.py clean for pytorch\n",
      "Failed to build pytorch\n"
     ]
    },
    {
     "name": "stderr",
     "output_type": "stream",
     "text": [
      "  error: subprocess-exited-with-error\n",
      "  \n",
      "  python setup.py bdist_wheel did not run successfully.\n",
      "  exit code: 1\n",
      "  \n",
      "  [6 lines of output]\n",
      "  Traceback (most recent call last):\n",
      "    File \"<string>\", line 2, in <module>\n",
      "    File \"<pip-setuptools-caller>\", line 34, in <module>\n",
      "    File \"C:\\Users\\me\\AppData\\Local\\Temp\\pip-install-oxdlft9m\\pytorch_c05d0d59877c47c5815330f183409153\\setup.py\", line 15, in <module>\n",
      "      raise Exception(message)\n",
      "  Exception: You tried to install \"pytorch\". The package named for PyTorch is \"torch\"\n",
      "  [end of output]\n",
      "  \n",
      "  note: This error originates from a subprocess, and is likely not a problem with pip.\n",
      "  ERROR: Failed building wheel for pytorch\n",
      "ERROR: Could not build wheels for pytorch, which is required to install pyproject.toml-based projects\n"
     ]
    },
    {
     "ename": "ModuleNotFoundError",
     "evalue": "No module named 'torch'",
     "output_type": "error",
     "traceback": [
      "\u001b[1;31m---------------------------------------------------------------------------\u001b[0m",
      "\u001b[1;31mModuleNotFoundError\u001b[0m                       Traceback (most recent call last)",
      "Cell \u001b[1;32mIn[5], line 3\u001b[0m\n\u001b[0;32m      1\u001b[0m get_ipython()\u001b[38;5;241m.\u001b[39msystem(\u001b[38;5;124m'\u001b[39m\u001b[38;5;124mpip install pytorch\u001b[39m\u001b[38;5;124m'\u001b[39m)\n\u001b[1;32m----> 3\u001b[0m \u001b[38;5;28;01mimport\u001b[39;00m \u001b[38;5;21;01mtorch\u001b[39;00m\n\u001b[0;32m      5\u001b[0m device \u001b[38;5;241m=\u001b[39m torch\u001b[38;5;241m.\u001b[39mdevice(\u001b[38;5;124m\"\u001b[39m\u001b[38;5;124mcuda\u001b[39m\u001b[38;5;124m\"\u001b[39m \u001b[38;5;28;01mif\u001b[39;00m torch\u001b[38;5;241m.\u001b[39mcuda\u001b[38;5;241m.\u001b[39mis_available() \u001b[38;5;28;01melse\u001b[39;00m \u001b[38;5;124m\"\u001b[39m\u001b[38;5;124mcpu\u001b[39m\u001b[38;5;124m\"\u001b[39m)\n",
      "\u001b[1;31mModuleNotFoundError\u001b[0m: No module named 'torch'"
     ]
    }
   ],
   "source": [
    "import torch\n",
    "\n",
    "device = torch.device(\"cuda\" if torch.cuda.is_available() else \"cpu\")"
   ]
  },
  {
   "cell_type": "code",
   "execution_count": 3,
   "id": "82e6596c-b6ae-4ef7-9046-1c857e2be12d",
   "metadata": {},
   "outputs": [
    {
     "ename": "ModuleNotFoundError",
     "evalue": "No module named 'torch'",
     "output_type": "error",
     "traceback": [
      "\u001b[1;31m---------------------------------------------------------------------------\u001b[0m",
      "\u001b[1;31mModuleNotFoundError\u001b[0m                       Traceback (most recent call last)",
      "Cell \u001b[1;32mIn[3], line 1\u001b[0m\n\u001b[1;32m----> 1\u001b[0m \u001b[38;5;28;01mimport\u001b[39;00m \u001b[38;5;21;01mtorch\u001b[39;00m\n\u001b[0;32m      3\u001b[0m \u001b[38;5;28mprint\u001b[39m(torch\u001b[38;5;241m.\u001b[39mcuda\u001b[38;5;241m.\u001b[39mis_available())\n",
      "\u001b[1;31mModuleNotFoundError\u001b[0m: No module named 'torch'"
     ]
    }
   ],
   "source": [
    "import torch\n",
    "\n",
    "print(torch.cuda.is_available())  # This should return True if CUDA is available"
   ]
  },
  {
   "cell_type": "markdown",
   "id": "954c2fc1-3bb0-48df-be20-09115a0075ee",
   "metadata": {},
   "source": [
    "## Code to convert video into frames\n",
    "\n",
    "CVAT needs to pay to export images"
   ]
  },
  {
   "cell_type": "code",
   "execution_count": 17,
   "id": "7d2f99aa-a70a-4624-b5f9-daafa72f6edc",
   "metadata": {},
   "outputs": [],
   "source": [
    "import cv2\n",
    "import os\n",
    "\n",
    "save_path = 'obj_train_data/images'\n",
    "\n",
    "# Ensure the directory exists, and if not, create it\n",
    "if not os.path.exists(save_path):\n",
    "    os.makedirs(save_path)\n",
    "\n",
    "vidcap = cv2.VideoCapture('IMG_6750.MOV')\n",
    "success, image = vidcap.read()\n",
    "count = 0\n",
    "\n",
    "while success:\n",
    "    # Format the file name with leading zeros\n",
    "    file_name = \"frame_{:06d}.jpg\".format(count)\n",
    "\n",
    "    # Full path for the file\n",
    "    full_path = os.path.join(save_path, file_name)\n",
    "    \n",
    "    # Save frame as JPEG file\n",
    "    cv2.imwrite(full_path, image)\n",
    "    \n",
    "    # Read the next frame\n",
    "    success, image = vidcap.read()\n",
    "    \n",
    "    # Print status\n",
    "    # print(f'Read a new frame: {success}')\n",
    "    \n",
    "    # Increment the frame count\n",
    "    count += 1"
   ]
  },
  {
   "cell_type": "markdown",
   "id": "dd328ea5-fd83-4e67-a7c2-6ca227c6aeaa",
   "metadata": {},
   "source": [
    "# Training"
   ]
  },
  {
   "cell_type": "code",
   "execution_count": 1,
   "id": "43043a68-a26f-41fb-a755-3c00a0d1d899",
   "metadata": {},
   "outputs": [
    {
     "name": "stderr",
     "output_type": "stream",
     "text": [
      "fatal: destination path 'yolov7' already exists and is not an empty directory.\n"
     ]
    }
   ],
   "source": [
    "!git clone https://github.com/WongKinYiu/yolov7"
   ]
  },
  {
   "cell_type": "code",
   "execution_count": 2,
   "id": "6f085972-3598-4183-bb28-72dd55a2e4e3",
   "metadata": {},
   "outputs": [
    {
     "name": "stdout",
     "output_type": "stream",
     "text": [
      "C:\\Users\\me\\syncthing\\_all\\UCSB\\3-Third-Year\\Capstone\\yolov7\n"
     ]
    },
    {
     "name": "stderr",
     "output_type": "stream",
     "text": [
      "C:\\Users\\me\\miniconda3\\envs\\capstone\\lib\\site-packages\\IPython\\core\\magics\\osm.py:417: UserWarning: using dhist requires you to install the `pickleshare` library.\n",
      "  self.shell.db['dhist'] = compress_dhist(dhist)[-100:]\n"
     ]
    }
   ],
   "source": [
    "%cd yolov7"
   ]
  },
  {
   "cell_type": "code",
   "execution_count": 3,
   "id": "751034f2-60e3-465a-96b9-9583138c0749",
   "metadata": {},
   "outputs": [
    {
     "name": "stdout",
     "output_type": "stream",
     "text": [
      "Collecting matplotlib>=3.2.2 (from -r requirements.txt (line 4))\n",
      "  Using cached matplotlib-3.8.3-cp39-cp39-win_amd64.whl.metadata (5.9 kB)\n",
      "Collecting numpy<1.24.0,>=1.18.5 (from -r requirements.txt (line 5))\n",
      "  Using cached numpy-1.23.5-cp39-cp39-win_amd64.whl (14.7 MB)\n",
      "Collecting opencv-python>=4.1.1 (from -r requirements.txt (line 6))\n",
      "  Using cached opencv_python-4.9.0.80-cp37-abi3-win_amd64.whl.metadata (20 kB)\n",
      "Collecting Pillow>=7.1.2 (from -r requirements.txt (line 7))\n",
      "  Using cached pillow-10.2.0-cp39-cp39-win_amd64.whl.metadata (9.9 kB)\n",
      "Requirement already satisfied: PyYAML>=5.3.1 in c:\\users\\me\\miniconda3\\envs\\capstone\\lib\\site-packages (from -r requirements.txt (line 8)) (6.0.1)\n",
      "Requirement already satisfied: requests>=2.23.0 in c:\\users\\me\\miniconda3\\envs\\capstone\\lib\\site-packages (from -r requirements.txt (line 9)) (2.31.0)\n",
      "Collecting scipy>=1.4.1 (from -r requirements.txt (line 10))\n",
      "  Using cached scipy-1.12.0-cp39-cp39-win_amd64.whl.metadata (60 kB)\n",
      "Collecting torch!=1.12.0,>=1.7.0 (from -r requirements.txt (line 11))\n",
      "  Using cached torch-2.2.0-cp39-cp39-win_amd64.whl.metadata (26 kB)\n",
      "Collecting torchvision!=0.13.0,>=0.8.1 (from -r requirements.txt (line 12))\n",
      "  Using cached torchvision-0.17.0-cp39-cp39-win_amd64.whl.metadata (6.6 kB)\n",
      "Collecting tqdm>=4.41.0 (from -r requirements.txt (line 13))\n",
      "  Using cached tqdm-4.66.2-py3-none-any.whl.metadata (57 kB)\n",
      "Requirement already satisfied: protobuf<4.21.3 in c:\\users\\me\\miniconda3\\envs\\capstone\\lib\\site-packages (from -r requirements.txt (line 14)) (3.19.6)\n",
      "Requirement already satisfied: tensorboard>=2.4.1 in c:\\users\\me\\miniconda3\\envs\\capstone\\lib\\site-packages (from -r requirements.txt (line 17)) (2.10.1)\n",
      "Collecting pandas>=1.1.4 (from -r requirements.txt (line 21))\n",
      "  Using cached pandas-2.2.0-cp39-cp39-win_amd64.whl.metadata (19 kB)\n",
      "Collecting seaborn>=0.11.0 (from -r requirements.txt (line 22))\n",
      "  Using cached seaborn-0.13.2-py3-none-any.whl.metadata (5.4 kB)\n",
      "Requirement already satisfied: ipython in c:\\users\\me\\miniconda3\\envs\\capstone\\lib\\site-packages (from -r requirements.txt (line 34)) (8.18.1)\n",
      "Requirement already satisfied: psutil in c:\\users\\me\\miniconda3\\envs\\capstone\\lib\\site-packages (from -r requirements.txt (line 35)) (5.9.8)\n",
      "Collecting thop (from -r requirements.txt (line 36))\n",
      "  Using cached thop-0.1.1.post2209072238-py3-none-any.whl (15 kB)\n",
      "Collecting contourpy>=1.0.1 (from matplotlib>=3.2.2->-r requirements.txt (line 4))\n",
      "  Using cached contourpy-1.2.0-cp39-cp39-win_amd64.whl.metadata (5.8 kB)\n",
      "Collecting cycler>=0.10 (from matplotlib>=3.2.2->-r requirements.txt (line 4))\n",
      "  Using cached cycler-0.12.1-py3-none-any.whl.metadata (3.8 kB)\n",
      "Collecting fonttools>=4.22.0 (from matplotlib>=3.2.2->-r requirements.txt (line 4))\n",
      "  Using cached fonttools-4.48.1-cp39-cp39-win_amd64.whl.metadata (162 kB)\n",
      "Collecting kiwisolver>=1.3.1 (from matplotlib>=3.2.2->-r requirements.txt (line 4))\n",
      "  Using cached kiwisolver-1.4.5-cp39-cp39-win_amd64.whl.metadata (6.5 kB)\n",
      "Requirement already satisfied: packaging>=20.0 in c:\\users\\me\\miniconda3\\envs\\capstone\\lib\\site-packages (from matplotlib>=3.2.2->-r requirements.txt (line 4)) (23.2)\n",
      "Collecting pyparsing>=2.3.1 (from matplotlib>=3.2.2->-r requirements.txt (line 4))\n",
      "  Using cached pyparsing-3.1.1-py3-none-any.whl.metadata (5.1 kB)\n",
      "Requirement already satisfied: python-dateutil>=2.7 in c:\\users\\me\\miniconda3\\envs\\capstone\\lib\\site-packages (from matplotlib>=3.2.2->-r requirements.txt (line 4)) (2.8.2)\n",
      "Collecting importlib-resources>=3.2.0 (from matplotlib>=3.2.2->-r requirements.txt (line 4))\n",
      "  Downloading importlib_resources-6.1.1-py3-none-any.whl.metadata (4.1 kB)\n",
      "Requirement already satisfied: charset-normalizer<4,>=2 in c:\\users\\me\\miniconda3\\envs\\capstone\\lib\\site-packages (from requests>=2.23.0->-r requirements.txt (line 9)) (3.3.2)\n",
      "Requirement already satisfied: idna<4,>=2.5 in c:\\users\\me\\miniconda3\\envs\\capstone\\lib\\site-packages (from requests>=2.23.0->-r requirements.txt (line 9)) (3.6)\n",
      "Requirement already satisfied: urllib3<3,>=1.21.1 in c:\\users\\me\\miniconda3\\envs\\capstone\\lib\\site-packages (from requests>=2.23.0->-r requirements.txt (line 9)) (2.2.0)\n",
      "Requirement already satisfied: certifi>=2017.4.17 in c:\\users\\me\\miniconda3\\envs\\capstone\\lib\\site-packages (from requests>=2.23.0->-r requirements.txt (line 9)) (2024.2.2)\n",
      "Collecting filelock (from torch!=1.12.0,>=1.7.0->-r requirements.txt (line 11))\n",
      "  Using cached filelock-3.13.1-py3-none-any.whl.metadata (2.8 kB)\n",
      "Requirement already satisfied: typing-extensions>=4.8.0 in c:\\users\\me\\miniconda3\\envs\\capstone\\lib\\site-packages (from torch!=1.12.0,>=1.7.0->-r requirements.txt (line 11)) (4.9.0)\n",
      "Collecting sympy (from torch!=1.12.0,>=1.7.0->-r requirements.txt (line 11))\n",
      "  Using cached sympy-1.12-py3-none-any.whl.metadata (12 kB)\n",
      "Collecting networkx (from torch!=1.12.0,>=1.7.0->-r requirements.txt (line 11))\n",
      "  Using cached networkx-3.2.1-py3-none-any.whl.metadata (5.2 kB)\n",
      "Requirement already satisfied: jinja2 in c:\\users\\me\\miniconda3\\envs\\capstone\\lib\\site-packages (from torch!=1.12.0,>=1.7.0->-r requirements.txt (line 11)) (3.1.3)\n",
      "Collecting fsspec (from torch!=1.12.0,>=1.7.0->-r requirements.txt (line 11))\n",
      "  Using cached fsspec-2024.2.0-py3-none-any.whl.metadata (6.8 kB)\n",
      "Requirement already satisfied: colorama in c:\\users\\me\\miniconda3\\envs\\capstone\\lib\\site-packages (from tqdm>=4.41.0->-r requirements.txt (line 13)) (0.4.6)\n",
      "Requirement already satisfied: absl-py>=0.4 in c:\\users\\me\\miniconda3\\envs\\capstone\\lib\\site-packages (from tensorboard>=2.4.1->-r requirements.txt (line 17)) (2.1.0)\n",
      "Requirement already satisfied: grpcio>=1.24.3 in c:\\users\\me\\miniconda3\\envs\\capstone\\lib\\site-packages (from tensorboard>=2.4.1->-r requirements.txt (line 17)) (1.60.1)\n",
      "Requirement already satisfied: google-auth<3,>=1.6.3 in c:\\users\\me\\miniconda3\\envs\\capstone\\lib\\site-packages (from tensorboard>=2.4.1->-r requirements.txt (line 17)) (2.27.0)\n",
      "Requirement already satisfied: google-auth-oauthlib<0.5,>=0.4.1 in c:\\users\\me\\miniconda3\\envs\\capstone\\lib\\site-packages (from tensorboard>=2.4.1->-r requirements.txt (line 17)) (0.4.6)\n",
      "Requirement already satisfied: markdown>=2.6.8 in c:\\users\\me\\miniconda3\\envs\\capstone\\lib\\site-packages (from tensorboard>=2.4.1->-r requirements.txt (line 17)) (3.5.2)\n",
      "Requirement already satisfied: setuptools>=41.0.0 in c:\\users\\me\\miniconda3\\envs\\capstone\\lib\\site-packages (from tensorboard>=2.4.1->-r requirements.txt (line 17)) (68.2.2)\n",
      "Requirement already satisfied: tensorboard-data-server<0.7.0,>=0.6.0 in c:\\users\\me\\miniconda3\\envs\\capstone\\lib\\site-packages (from tensorboard>=2.4.1->-r requirements.txt (line 17)) (0.6.1)\n",
      "Requirement already satisfied: tensorboard-plugin-wit>=1.6.0 in c:\\users\\me\\miniconda3\\envs\\capstone\\lib\\site-packages (from tensorboard>=2.4.1->-r requirements.txt (line 17)) (1.8.1)\n",
      "Requirement already satisfied: werkzeug>=1.0.1 in c:\\users\\me\\miniconda3\\envs\\capstone\\lib\\site-packages (from tensorboard>=2.4.1->-r requirements.txt (line 17)) (3.0.1)\n",
      "Requirement already satisfied: wheel>=0.26 in c:\\users\\me\\miniconda3\\envs\\capstone\\lib\\site-packages (from tensorboard>=2.4.1->-r requirements.txt (line 17)) (0.41.2)\n",
      "Collecting pytz>=2020.1 (from pandas>=1.1.4->-r requirements.txt (line 21))\n",
      "  Using cached pytz-2024.1-py2.py3-none-any.whl.metadata (22 kB)\n",
      "Collecting tzdata>=2022.7 (from pandas>=1.1.4->-r requirements.txt (line 21))\n",
      "  Using cached tzdata-2024.1-py2.py3-none-any.whl.metadata (1.4 kB)\n",
      "Requirement already satisfied: decorator in c:\\users\\me\\miniconda3\\envs\\capstone\\lib\\site-packages (from ipython->-r requirements.txt (line 34)) (5.1.1)\n",
      "Requirement already satisfied: jedi>=0.16 in c:\\users\\me\\miniconda3\\envs\\capstone\\lib\\site-packages (from ipython->-r requirements.txt (line 34)) (0.19.1)\n",
      "Requirement already satisfied: matplotlib-inline in c:\\users\\me\\miniconda3\\envs\\capstone\\lib\\site-packages (from ipython->-r requirements.txt (line 34)) (0.1.6)\n",
      "Requirement already satisfied: prompt-toolkit<3.1.0,>=3.0.41 in c:\\users\\me\\miniconda3\\envs\\capstone\\lib\\site-packages (from ipython->-r requirements.txt (line 34)) (3.0.43)\n",
      "Requirement already satisfied: pygments>=2.4.0 in c:\\users\\me\\miniconda3\\envs\\capstone\\lib\\site-packages (from ipython->-r requirements.txt (line 34)) (2.17.2)\n",
      "Requirement already satisfied: stack-data in c:\\users\\me\\miniconda3\\envs\\capstone\\lib\\site-packages (from ipython->-r requirements.txt (line 34)) (0.6.3)\n",
      "Requirement already satisfied: traitlets>=5 in c:\\users\\me\\miniconda3\\envs\\capstone\\lib\\site-packages (from ipython->-r requirements.txt (line 34)) (5.14.1)\n",
      "Requirement already satisfied: exceptiongroup in c:\\users\\me\\miniconda3\\envs\\capstone\\lib\\site-packages (from ipython->-r requirements.txt (line 34)) (1.2.0)\n",
      "Requirement already satisfied: cachetools<6.0,>=2.0.0 in c:\\users\\me\\miniconda3\\envs\\capstone\\lib\\site-packages (from google-auth<3,>=1.6.3->tensorboard>=2.4.1->-r requirements.txt (line 17)) (5.3.2)\n",
      "Requirement already satisfied: pyasn1-modules>=0.2.1 in c:\\users\\me\\miniconda3\\envs\\capstone\\lib\\site-packages (from google-auth<3,>=1.6.3->tensorboard>=2.4.1->-r requirements.txt (line 17)) (0.3.0)\n",
      "Requirement already satisfied: rsa<5,>=3.1.4 in c:\\users\\me\\miniconda3\\envs\\capstone\\lib\\site-packages (from google-auth<3,>=1.6.3->tensorboard>=2.4.1->-r requirements.txt (line 17)) (4.9)\n",
      "Requirement already satisfied: requests-oauthlib>=0.7.0 in c:\\users\\me\\miniconda3\\envs\\capstone\\lib\\site-packages (from google-auth-oauthlib<0.5,>=0.4.1->tensorboard>=2.4.1->-r requirements.txt (line 17)) (1.3.1)\n",
      "Requirement already satisfied: zipp>=3.1.0 in c:\\users\\me\\miniconda3\\envs\\capstone\\lib\\site-packages (from importlib-resources>=3.2.0->matplotlib>=3.2.2->-r requirements.txt (line 4)) (3.17.0)\n",
      "Requirement already satisfied: parso<0.9.0,>=0.8.3 in c:\\users\\me\\miniconda3\\envs\\capstone\\lib\\site-packages (from jedi>=0.16->ipython->-r requirements.txt (line 34)) (0.8.3)\n",
      "Requirement already satisfied: importlib-metadata>=4.4 in c:\\users\\me\\miniconda3\\envs\\capstone\\lib\\site-packages (from markdown>=2.6.8->tensorboard>=2.4.1->-r requirements.txt (line 17)) (7.0.1)\n",
      "Requirement already satisfied: wcwidth in c:\\users\\me\\miniconda3\\envs\\capstone\\lib\\site-packages (from prompt-toolkit<3.1.0,>=3.0.41->ipython->-r requirements.txt (line 34)) (0.2.13)\n",
      "Requirement already satisfied: six>=1.5 in c:\\users\\me\\miniconda3\\envs\\capstone\\lib\\site-packages (from python-dateutil>=2.7->matplotlib>=3.2.2->-r requirements.txt (line 4)) (1.16.0)\n",
      "Requirement already satisfied: MarkupSafe>=2.1.1 in c:\\users\\me\\miniconda3\\envs\\capstone\\lib\\site-packages (from werkzeug>=1.0.1->tensorboard>=2.4.1->-r requirements.txt (line 17)) (2.1.5)\n",
      "Requirement already satisfied: executing>=1.2.0 in c:\\users\\me\\miniconda3\\envs\\capstone\\lib\\site-packages (from stack-data->ipython->-r requirements.txt (line 34)) (2.0.1)\n",
      "Requirement already satisfied: asttokens>=2.1.0 in c:\\users\\me\\miniconda3\\envs\\capstone\\lib\\site-packages (from stack-data->ipython->-r requirements.txt (line 34)) (2.4.1)\n",
      "Requirement already satisfied: pure-eval in c:\\users\\me\\miniconda3\\envs\\capstone\\lib\\site-packages (from stack-data->ipython->-r requirements.txt (line 34)) (0.2.2)\n",
      "Collecting mpmath>=0.19 (from sympy->torch!=1.12.0,>=1.7.0->-r requirements.txt (line 11))\n",
      "  Using cached mpmath-1.3.0-py3-none-any.whl (536 kB)\n",
      "Requirement already satisfied: pyasn1<0.6.0,>=0.4.6 in c:\\users\\me\\miniconda3\\envs\\capstone\\lib\\site-packages (from pyasn1-modules>=0.2.1->google-auth<3,>=1.6.3->tensorboard>=2.4.1->-r requirements.txt (line 17)) (0.5.1)\n",
      "Requirement already satisfied: oauthlib>=3.0.0 in c:\\users\\me\\miniconda3\\envs\\capstone\\lib\\site-packages (from requests-oauthlib>=0.7.0->google-auth-oauthlib<0.5,>=0.4.1->tensorboard>=2.4.1->-r requirements.txt (line 17)) (3.2.2)\n",
      "Using cached matplotlib-3.8.3-cp39-cp39-win_amd64.whl (7.6 MB)\n",
      "Using cached opencv_python-4.9.0.80-cp37-abi3-win_amd64.whl (38.6 MB)\n",
      "Using cached pillow-10.2.0-cp39-cp39-win_amd64.whl (2.6 MB)\n",
      "Using cached scipy-1.12.0-cp39-cp39-win_amd64.whl (46.2 MB)\n",
      "Using cached torch-2.2.0-cp39-cp39-win_amd64.whl (198.5 MB)\n",
      "Using cached torchvision-0.17.0-cp39-cp39-win_amd64.whl (1.2 MB)\n",
      "Using cached tqdm-4.66.2-py3-none-any.whl (78 kB)\n",
      "Using cached pandas-2.2.0-cp39-cp39-win_amd64.whl (11.6 MB)\n",
      "Using cached seaborn-0.13.2-py3-none-any.whl (294 kB)\n",
      "Using cached contourpy-1.2.0-cp39-cp39-win_amd64.whl (181 kB)\n",
      "Using cached cycler-0.12.1-py3-none-any.whl (8.3 kB)\n",
      "Using cached fonttools-4.48.1-cp39-cp39-win_amd64.whl (2.2 MB)\n",
      "Downloading importlib_resources-6.1.1-py3-none-any.whl (33 kB)\n",
      "Using cached kiwisolver-1.4.5-cp39-cp39-win_amd64.whl (56 kB)\n",
      "Using cached pyparsing-3.1.1-py3-none-any.whl (103 kB)\n",
      "Downloading pytz-2024.1-py2.py3-none-any.whl (505 kB)\n",
      "   ---------------------------------------- 0.0/505.5 kB ? eta -:--:--\n",
      "   ------- -------------------------------- 92.2/505.5 kB 5.5 MB/s eta 0:00:01\n",
      "   ---------------------------------------- 505.5/505.5 kB 8.0 MB/s eta 0:00:00\n",
      "Using cached tzdata-2024.1-py2.py3-none-any.whl (345 kB)\n",
      "Using cached filelock-3.13.1-py3-none-any.whl (11 kB)\n",
      "Using cached fsspec-2024.2.0-py3-none-any.whl (170 kB)\n",
      "Using cached networkx-3.2.1-py3-none-any.whl (1.6 MB)\n",
      "Using cached sympy-1.12-py3-none-any.whl (5.7 MB)\n",
      "Installing collected packages: pytz, mpmath, tzdata, tqdm, sympy, pyparsing, Pillow, numpy, networkx, kiwisolver, importlib-resources, fsspec, fonttools, filelock, cycler, torch, scipy, pandas, opencv-python, contourpy, torchvision, thop, matplotlib, seaborn\n",
      "  Attempting uninstall: numpy\n",
      "    Found existing installation: numpy 1.26.4\n",
      "    Uninstalling numpy-1.26.4:\n",
      "      Successfully uninstalled numpy-1.26.4\n",
      "Successfully installed Pillow-10.2.0 contourpy-1.2.0 cycler-0.12.1 filelock-3.13.1 fonttools-4.48.1 fsspec-2024.2.0 importlib-resources-6.1.1 kiwisolver-1.4.5 matplotlib-3.8.3 mpmath-1.3.0 networkx-3.2.1 numpy-1.23.5 opencv-python-4.9.0.80 pandas-2.2.0 pyparsing-3.1.1 pytz-2024.1 scipy-1.12.0 seaborn-0.13.2 sympy-1.12 thop-0.1.1.post2209072238 torch-2.2.0 torchvision-0.17.0 tqdm-4.66.2 tzdata-2024.1\n"
     ]
    }
   ],
   "source": [
    "!pip install -r requirements.txt"
   ]
  },
  {
   "cell_type": "code",
   "execution_count": 10,
   "id": "fb8e3992-d31f-43d0-a5f1-3bcc70dd47a7",
   "metadata": {},
   "outputs": [
    {
     "name": "stderr",
     "output_type": "stream",
     "text": [
      "Traceback (most recent call last):\n",
      "  File \"C:\\Users\\me\\syncthing\\_all\\UCSB\\3-Third-Year\\Capstone\\yolov7\\train.py\", line 595, in <module>\n",
      "    device = select_device(opt.device, batch_size=opt.batch_size)\n",
      "  File \"C:\\Users\\me\\syncthing\\_all\\UCSB\\3-Third-Year\\Capstone\\yolov7\\utils\\torch_utils.py\", line 71, in select_device\n",
      "    assert torch.cuda.is_available(), f'CUDA unavailable, invalid device {device} requested'  # check availability\n",
      "AssertionError: CUDA unavailable, invalid device 0 requested\n"
     ]
    }
   ],
   "source": [
    "!python train.py --batch 16 --epochs 55 --data \"../all_dataset/obj_train_data/boseandchoco.yaml\" --weights \"yolov7.pt\" --device 0"
   ]
  }
 ],
 "metadata": {
  "kernelspec": {
   "display_name": "Python 3 (ipykernel)",
   "language": "python",
   "name": "python3"
  },
  "language_info": {
   "codemirror_mode": {
    "name": "ipython",
    "version": 3
   },
   "file_extension": ".py",
   "mimetype": "text/x-python",
   "name": "python",
   "nbconvert_exporter": "python",
   "pygments_lexer": "ipython3",
   "version": "3.9.18"
  }
 },
 "nbformat": 4,
 "nbformat_minor": 5
}
